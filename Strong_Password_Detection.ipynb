{
  "nbformat": 4,
  "nbformat_minor": 0,
  "metadata": {
    "colab": {
      "provenance": []
    },
    "kernelspec": {
      "name": "python3",
      "display_name": "Python 3"
    },
    "language_info": {
      "name": "python"
    }
  },
  "cells": [
    {
      "cell_type": "code",
      "execution_count": 1,
      "metadata": {
        "colab": {
          "base_uri": "https://localhost:8080/"
        },
        "id": "6oqcU0u3x3x-",
        "outputId": "f8e0d994-e4c5-4d06-f0e3-17679195be1a"
      },
      "outputs": [
        {
          "output_type": "stream",
          "name": "stdout",
          "text": [
            "Enter your password: Ulisi@37\n",
            "Password strength: Strong\n"
          ]
        }
      ],
      "source": [
        "import re\n",
        "\n",
        "def check_password_strength(password):\n",
        "    score = 0\n",
        "    feedback = []\n",
        "\n",
        "    # Length check\n",
        "    if len(password) >= 8:\n",
        "        score += 1\n",
        "    else:\n",
        "        feedback.append(\"Password must be at least 8 characters long.\")\n",
        "\n",
        "    # Uppercase check\n",
        "    if re.search(r'[A-Z]', password):\n",
        "        score += 1\n",
        "    else:\n",
        "        feedback.append(\"Password must contain at least one uppercase letter.\")\n",
        "\n",
        "    # Lowercase check\n",
        "    if re.search(r'[a-z]', password):\n",
        "        score += 1\n",
        "    else:\n",
        "        feedback.append(\"Password must contain at least one lowercase letter.\")\n",
        "\n",
        "    # Digit check\n",
        "    if re.search(r'\\d', password):\n",
        "        score += 1\n",
        "    else:\n",
        "        feedback.append(\"Password must contain at least one digit.\")\n",
        "\n",
        "    # Special character check\n",
        "    if re.search(r'[!@#$%^&*()_+=\\-{}[\\]|;:\\'\",.<>/?`~]', password):\n",
        "        score += 1\n",
        "    else:\n",
        "        feedback.append(\"Password must contain at least one special character.\")\n",
        "\n",
        "    if score == 5: # Assuming 5 criteria for 'strong'\n",
        "        return \"Strong\", []\n",
        "    else:\n",
        "        return \"Weak\", feedback\n",
        "\n",
        "# Example usage\n",
        "password = input(\"Enter your password: \")\n",
        "strength, issues = check_password_strength(password)\n",
        "\n",
        "print(f\"Password strength: {strength}\")\n",
        "if issues:\n",
        "    print(\"Issues:\")\n",
        "    for issue in issues:\n",
        "        print(f\"- {issue}\")"
      ]
    }
  ]
}