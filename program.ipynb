{
  "nbformat": 4,
  "nbformat_minor": 0,
  "metadata": {
    "colab": {
      "provenance": []
    },
    "kernelspec": {
      "name": "python3",
      "display_name": "Python 3"
    },
    "language_info": {
      "name": "python"
    }
  },
  "cells": [
    {
      "cell_type": "code",
      "execution_count": 1,
      "metadata": {
        "id": "QAQNZsk4cqpC"
      },
      "outputs": [],
      "source": [
        "import pandas as pd\n",
        "import numpy as np\n",
        "import seaborn as sns\n",
        "import matplotlib.pyplot as plt\n",
        "import os\n",
        "from sklearn.preprocessing import LabelEncoder\n"
      ]
    },
    {
      "cell_type": "code",
      "source": [
        "# This part is based on your final evaluation metrics bar chart\n",
        "# You would have defined df_means and best_model from your actual model training process.\n",
        "# This is a placeholder to represent the output you showed.\n",
        "\n",
        "# Example placeholder DataFrame to mimic your results if you don't have the model code\n",
        "df_means = pd.DataFrame({\n",
        "    'Model': ['Model1', 'Model2', 'Model3', 'Neural Network'],\n",
        "    'Accuracy': [0.86, 0.85, 0.88, 0.90], # Adjust these values to match your exact results if known\n",
        "    'Precision': [0.85, 0.86, 0.88, 0.90],\n",
        "    'Recall': [0.82, 0.84, 0.85, 0.91],\n",
        "    'F1 Score': [0.83, 0.85, 0.86, 0.90]\n",
        "}).set_index('Model')\n",
        "\n",
        "best_model = df_means.mean(axis=1).idxmax()\n",
        "print(f\"The best overall model is: {best_model}\")\n",
        "results = df_means.loc[best_model]\n",
        "print(results['Accuracy'])"
      ],
      "metadata": {
        "colab": {
          "base_uri": "https://localhost:8080/"
        },
        "id": "mc81_eHjc1wx",
        "outputId": "4e4bff47-52cd-48a6-c605-91925d3ede1c"
      },
      "execution_count": 2,
      "outputs": [
        {
          "output_type": "stream",
          "name": "stdout",
          "text": [
            "The best overall model is: Neural Network\n",
            "0.9\n"
          ]
        }
      ]
    },
    {
      "cell_type": "code",
      "source": [
        "def savefig(fig, filename, saveTrue=True):\n",
        "    \"\"\"Saves a matplotlib figure to a specified file.\"\"\"\n",
        "    if saveTrue:\n",
        "        # Create 'EDA' directory if it doesn't exist\n",
        "        if not os.path.exists('EDA'):\n",
        "            os.makedirs('EDA')\n",
        "        fig.savefig(os.path.join('EDA', filename))\n",
        "\n",
        "def plot_histograms(data, saveTrue=True):\n",
        "    \"\"\"Plots histograms for numerical columns.\"\"\"\n",
        "    numeric_columns = data.select_dtypes(include=['int64', 'float64']).columns\n",
        "    fig, axes = plt.subplots(len(numeric_columns) // 3 + 1, 3, figsize=(20, 15))\n",
        "    axes = axes.flatten()\n",
        "\n",
        "    for i, col in enumerate(numeric_columns):\n",
        "        data[col].hist(bins=30, ax=axes[i])\n",
        "        axes[i].set_title(col)\n",
        "    plt.tight_layout()\n",
        "    savefig(fig, 'histograms.png', saveTrue)\n",
        "    plt.show()\n",
        "\n",
        "def plot_boxplots(data, column, saveTrue=True):\n",
        "    \"\"\"Plots boxplots for a given column vs satisfaction.\"\"\"\n",
        "    fig, ax = plt.subplots(figsize=(10, 6))\n",
        "    sns.boxplot(x='satisfaction', y=column, data=data, ax=ax)\n",
        "    ax.set_title(f'{column} vs Satisfaction')\n",
        "    savefig(fig, f'{column}_boxplot.png', saveTrue)\n",
        "    plt.show()"
      ],
      "metadata": {
        "id": "NFLzIvXjc5OZ"
      },
      "execution_count": 3,
      "outputs": []
    }
  ]
}